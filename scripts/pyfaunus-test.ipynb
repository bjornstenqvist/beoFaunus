{
 "cells": [
  {
   "cell_type": "code",
   "execution_count": 1,
   "metadata": {
    "collapsed": true
   },
   "outputs": [],
   "source": [
    "import numpy as np\n",
    "import pyfaunus as mc"
   ]
  },
  {
   "cell_type": "markdown",
   "metadata": {},
   "source": [
    "**Create Space from an already existing `.json` input file:**"
   ]
  },
  {
   "cell_type": "code",
   "execution_count": 2,
   "metadata": {
    "collapsed": false
   },
   "outputs": [
    {
     "name": "stdout",
     "output_type": "stream",
     "text": [
      "\n",
      " ...............................\n",
      "  Simulation Space and Geometry  \n",
      " *******************************\n",
      "  Boundary                 Cuboid\n",
      "  Volume                   125000 Å³ = 125 nm³ = 1.25e-22 liters\n",
      "  Sidelengths              50 50 50 (Å)\n",
      "  Scale directions         XYZ\n",
      "  Number of particles      100\n",
      "  Electroneutrality        Yes 0\n",
      "  System sanity check      Passed\n",
      "  Number of molecule types 1\n",
      "  Groups:\n",
      "    1     [0-99]           salt        N/V = 0.0008 Å⁻³ = 1328.43 mM  \n",
      "\n",
      "system volume =  125000.0\n"
     ]
    }
   ],
   "source": [
    "jsoninput = mc.InputMap('../src/examples/minimal.json')\n",
    "space = mc.Space(jsoninput)\n",
    "print(space.info())\n",
    "print 'system volume = ',space.geo.getVolume()"
   ]
  },
  {
   "cell_type": "markdown",
   "metadata": {},
   "source": [
    "**Probe group information and get particle index:**"
   ]
  },
  {
   "cell_type": "code",
   "execution_count": 3,
   "metadata": {
    "collapsed": false
   },
   "outputs": [
    {
     "name": "stdout",
     "output_type": "stream",
     "text": [
      "salt\n",
      "100\n",
      "[0L, 1L, 2L, 3L, 4L, 5L, 6L, 7L, 8L, 9L, 10L, 11L, 12L, 13L, 14L, 15L, 16L, 17L, 18L, 19L, 20L, 21L, 22L, 23L, 24L, 25L, 26L, 27L, 28L, 29L, 30L, 31L, 32L, 33L, 34L, 35L, 36L, 37L, 38L, 39L, 40L, 41L, 42L, 43L, 44L, 45L, 46L, 47L, 48L, 49L, 50L, 51L, 52L, 53L, 54L, 55L, 56L, 57L, 58L, 59L, 60L, 61L, 62L, 63L, 64L, 65L, 66L, 67L, 68L, 69L, 70L, 71L, 72L, 73L, 74L, 75L, 76L, 77L, 78L, 79L, 80L, 81L, 82L, 83L, 84L, 85L, 86L, 87L, 88L, 89L, 90L, 91L, 92L, 93L, 94L, 95L, 96L, 97L, 98L, 99L]\n"
     ]
    }
   ],
   "source": [
    "groups = space.groupList()\n",
    "for group in groups:\n",
    "    print group.name\n",
    "    print len(group)\n",
    "    print group.range()"
   ]
  },
  {
   "cell_type": "markdown",
   "metadata": {},
   "source": [
    "** Extract positions etc from a group **"
   ]
  },
  {
   "cell_type": "code",
   "execution_count": 4,
   "metadata": {
    "collapsed": false
   },
   "outputs": [
    {
     "name": "stdout",
     "output_type": "stream",
     "text": [
      "position of first atom = [ 24.82306628  23.38474685  11.29194816]\n",
      "total charge           = 0.0\n"
     ]
    }
   ],
   "source": [
    "positions = [ np.array((space.p[i].x, space.p[i].y, space.p[i].z)) for i in groups[0].range()]\n",
    "charges   = [ space.p[i].charge for i in groups[0].range()]\n",
    "\n",
    "print 'position of first atom =', positions[0]\n",
    "print 'total charge           =', sum(charges)"
   ]
  },
  {
   "cell_type": "markdown",
   "metadata": {},
   "source": [
    "**Calculate center of mass for a group **"
   ]
  },
  {
   "cell_type": "code",
   "execution_count": 5,
   "metadata": {
    "collapsed": false
   },
   "outputs": [
    {
     "name": "stdout",
     "output_type": "stream",
     "text": [
      "center of mass =  [-23.71497592   0.41635248   7.08268208]\n"
     ]
    }
   ],
   "source": [
    "saltgroup = space.groupList()[0]\n",
    "cm = mc.massCenter(space.geo, space.p, saltgroup)\n",
    "print \"center of mass = \", np.array(cm)"
   ]
  },
  {
   "cell_type": "markdown",
   "metadata": {
    "collapsed": false
   },
   "source": [
    "** This part is purely experimental and merely to illustrate _how_ the interface could look like **"
   ]
  },
  {
   "cell_type": "code",
   "execution_count": null,
   "metadata": {
    "collapsed": true
   },
   "outputs": [],
   "source": [
    "spc = mc.Space(...)\n",
    "spc.addAtomType(name='OW', weight=18, charge=-0.3, epsilon=0.03, sigma=0.3)\n",
    "spc.addMoleculeType(name='water', atoms=['HW HW OW'], rigid=True)\n",
    "spc.addMoleculeType(name='salt', atoms=['Na Cl'], atomic=True)\n",
    "spc.addMolecules(type='water', N=100)\n",
    "\n",
    "potential = mc.potentials.Coulomb(epsr=80, cutoff=10) +\n",
    "    mc.potentials.LennardJones(combinationrule='LB')"
   ]
  }
 ],
 "metadata": {
  "kernelspec": {
   "display_name": "Python 2",
   "language": "python",
   "name": "python2"
  },
  "language_info": {
   "codemirror_mode": {
    "name": "ipython",
    "version": 2
   },
   "file_extension": ".py",
   "mimetype": "text/x-python",
   "name": "python",
   "nbconvert_exporter": "python",
   "pygments_lexer": "ipython2",
   "version": "2.7.11"
  }
 },
 "nbformat": 4,
 "nbformat_minor": 0
}
